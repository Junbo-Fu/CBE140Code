{
 "cells": [
  {
   "cell_type": "code",
   "execution_count": 10,
   "metadata": {},
   "outputs": [],
   "source": [
    "import numpy as np, pandas as pd, matplotlib.pyplot as plt\n",
    "from scipy.optimize import root"
   ]
  },
  {
   "cell_type": "code",
   "execution_count": 16,
   "metadata": {},
   "outputs": [],
   "source": [
    "def eqns(x):\n",
    "# Define constants\n",
    "    K = 0.006 \n",
    "    p = 1  # atm\n",
    "\n",
    "    # Define function\n",
    "    f = x*(3-2*x)**2/(4*(1-x)**3)-K*p**2\n",
    "\n",
    "    return f"
   ]
  },
  {
   "cell_type": "code",
   "execution_count": 17,
   "metadata": {},
   "outputs": [
    {
     "name": "stdout",
     "output_type": "stream",
     "text": [
      "the zero: [0.00265487] \n",
      "The value of eqns at the zero: [0.]\n"
     ]
    }
   ],
   "source": [
    "# Set initial guess\n",
    "x0 = [0.5]\n",
    "\n",
    "# Call root using Levenberg-Marquardt method\n",
    "result= root(eqns, x0 = x0, method = 'lm')\n",
    "\n",
    "# Display the zero\n",
    "# Display value of the function at the \"zero\"    \n",
    "print(\"the zero:\",result.x,\"\\nThe value of eqns at the zero:\", result.fun)"
   ]
  }
 ],
 "metadata": {
  "kernelspec": {
   "display_name": "base",
   "language": "python",
   "name": "python3"
  },
  "language_info": {
   "codemirror_mode": {
    "name": "ipython",
    "version": 3
   },
   "file_extension": ".py",
   "mimetype": "text/x-python",
   "name": "python",
   "nbconvert_exporter": "python",
   "pygments_lexer": "ipython3",
   "version": "3.11.4"
  },
  "orig_nbformat": 4
 },
 "nbformat": 4,
 "nbformat_minor": 2
}
