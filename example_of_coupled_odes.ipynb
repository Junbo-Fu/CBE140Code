{
 "cells": [
  {
   "cell_type": "code",
   "execution_count": 32,
   "metadata": {},
   "outputs": [],
   "source": [
    "import numpy as np, pandas as pd, matplotlib.pyplot as plt, matplotlib as mpl\n",
    "from scipy.integrate import solve_ivp"
   ]
  },
  {
   "cell_type": "code",
   "execution_count": 33,
   "metadata": {},
   "outputs": [
    {
     "data": {
      "text/plain": [
       "'\\nThis function uses experimental rate constants as a function of \\ntemperature for the calculation of the concentrations of A, B, C, D, E,\\nand F as a function of time, from a given reaction network.\\n\\nMATLAB code: Thomas Dursch September 29th, 2009\\nPython code: Junbo Fu Aug. 23rd, 2023 \\n\\nThe reaction network is: A + B --> C --> D A + D <---> E 2E --> F \\nwhich all occur in parallel. \\n'"
      ]
     },
     "execution_count": 33,
     "metadata": {},
     "output_type": "execute_result"
    }
   ],
   "source": [
    "'''\n",
    "This function uses experimental rate constants as a function of \n",
    "temperature for the calculation of the concentrations of A, B, C, D, E,\n",
    "and F as a function of time, from a given reaction network.\n",
    "\n",
    "MATLAB code: Thomas Dursch September 29th, 2009\n",
    "Python code: Junbo Fu Aug. 23rd, 2023 \n",
    "\n",
    "The reaction network is: A + B --> C --> D A + D <---> E 2E --> F \n",
    "which all occur in parallel. \n",
    "'''"
   ]
  },
  {
   "cell_type": "code",
   "execution_count": 34,
   "metadata": {},
   "outputs": [],
   "source": [
    "#Defining constants:\n",
    "#Pre-exponential Factors:\n",
    "k1p = 100000 # [=] mM^-1*s^-1\n",
    "k2p = 13000 # [=] s^-1\n",
    "k3p = 500 # [=] mM^-1*s^-1\n",
    "k3rp = 22000 # [=] s^-1\n",
    "k4p= 1.6*10**8 # [=] mM^-1*s^-1\n",
    "\n",
    "#Actvation Energies [=] J/mol:\n",
    "Ea1 = 44000\n",
    "Ea2 = 28000\n",
    "Ea3 = 21000\n",
    "Ea3r = 35000\n",
    "Ea4 = 66000\n",
    "\n",
    "R = 8.314 # Gas Constant [=] J/mol-K\n",
    "T = 328 # Temperature at which the experiment was run [=] K\n",
    "\n",
    "#Assume the rate constants have the Arrhenius Form: k(T) =\n",
    "#kxp*exp(-Ea/(R*T)):\n",
    "\n",
    "k1 = k1p*np.exp(-Ea1/(R*T)) # A + B --> C\n",
    "k2 = k2p*np.exp(-Ea2/(R*T)) # C --> D\n",
    "k3 = k3p*np.exp(-Ea3/(R*T)) # A + D --> E\n",
    "k3r = k3rp*np.exp(-Ea3r/(R*T)) # E --> A + D\n",
    "k4 = k4p*np.exp(-Ea4/(R*T)) # 2E --> F\n"
   ]
  },
  {
   "cell_type": "code",
   "execution_count": 35,
   "metadata": {},
   "outputs": [],
   "source": [
    "def diffeq (t,f):\n",
    "#This function is used in the ODE solver - it is the rate equations that\n",
    "#will be solved by the ODE solver.\n",
    "\n",
    "    df = np.zeros(6); # Creates a zeros vector where the solutions to the ODEs \n",
    "    #will be stored.  It is a 6 species x 1 solution vector.\n",
    "\n",
    "    #Rate Equations: f(1)=A, f(2)=B, f(3)=C, f(4)=D, f(5)=E, f(6)=F\n",
    "    df[0] = - k1 * f[0] * f[1] - k3 * f[0] * f[3] + k3r * f[4]\n",
    "    df[1] = - k1 * f[0] * f[1]\n",
    "    df[2] = k1 * f[0] * f[1] - k2 * f[2]\n",
    "    df[3] = k2 * f[2] - k3 * f[0] * f[3] + k3r * f[4]\n",
    "    df[4] = k3 * f[0] * f[3] - k3r * f[4] - 2 * k4 * f[4] * f[4]\n",
    "    df[5] = k4 * f[4] * f[4]\n",
    "\n",
    "    return df"
   ]
  },
  {
   "cell_type": "code",
   "execution_count": 43,
   "metadata": {},
   "outputs": [
    {
     "data": {
      "image/png": "[encoded data removed]",
      "text/plain": [
       "<Figure size 640x480 with 1 Axes>"
      ]
     },
     "metadata": {},
     "output_type": "display_data"
    }
   ],
   "source": [
    "#Initial Conditions [=] mMol:\n",
    "initial = [100, 100, 0, 0, 0, 0]\n",
    "tspan = [0, 10000]\n",
    "\n",
    "# Solve ODE\n",
    "results = solve_ivp(diffeq, tspan, initial, method='RK45')\n",
    "t = results.t\n",
    "y = results.y\n",
    "# Plot the result\n",
    "plt.figure()\n",
    "plt.plot(t, y[0],label = 'A')\n",
    "plt.plot(t, y[1],label = 'B')\n",
    "plt.plot(t, y[2],label = 'C')\n",
    "plt.plot(t, y[3],label = 'D')\n",
    "plt.plot(t, y[4],label = 'E')\n",
    "plt.plot(t, y[5],label = 'F')\n",
    "plt.legend()\n",
    "plt.xlabel('Time (s)')\n",
    "plt.ylabel('Concentration (mM)')\n",
    "plt.show()"
   ]
  }
 ],
 "metadata": {
  "kernelspec": {
   "display_name": "base",
   "language": "python",
   "name": "python3"
  },
  "language_info": {
   "codemirror_mode": {
    "name": "ipython",
    "version": 3
   },
   "file_extension": ".py",
   "mimetype": "text/x-python",
   "name": "python",
   "nbconvert_exporter": "python",
   "pygments_lexer": "ipython3",
   "version": "3.11.4"
  },
  "orig_nbformat": 4
 },
 "nbformat": 4,
 "nbformat_minor": 2
}
