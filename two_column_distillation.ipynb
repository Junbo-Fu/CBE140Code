{
 "cells": [
  {
   "cell_type": "code",
   "execution_count": 5,
   "metadata": {},
   "outputs": [],
   "source": [
    "import numpy as np, pandas as pd, matplotlib.pyplot as plt\n",
    "from numpy.linalg import lstsq\n",
    "import warnings\n",
    "warnings.filterwarnings('ignore') # A couple math no-no's in this example, but ignore them"
   ]
  },
  {
   "cell_type": "code",
   "execution_count": 8,
   "metadata": {},
   "outputs": [
    {
     "name": "stdout",
     "output_type": "stream",
     "text": [
      "[[38.41489362]\n",
      " [39.38510638]]\n"
     ]
    }
   ],
   "source": [
    "A = np.array([ [0.01, 0.95], [0.99, 0.05]])\n",
    "b = np.array([[37.8], [40]])\n",
    "x = lstsq(A,b)\n",
    "# Display result\n",
    "\n",
    "print(x[0])\n"
   ]
  }
 ],
 "metadata": {
  "kernelspec": {
   "display_name": "base",
   "language": "python",
   "name": "python3"
  },
  "language_info": {
   "codemirror_mode": {
    "name": "ipython",
    "version": 3
   },
   "file_extension": ".py",
   "mimetype": "text/x-python",
   "name": "python",
   "nbconvert_exporter": "python",
   "pygments_lexer": "ipython3",
   "version": "3.11.4"
  },
  "orig_nbformat": 4
 },
 "nbformat": 4,
 "nbformat_minor": 2
}
