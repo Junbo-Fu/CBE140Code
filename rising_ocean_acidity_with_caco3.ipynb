{
 "cells": [
  {
   "cell_type": "code",
   "execution_count": 1,
   "metadata": {},
   "outputs": [],
   "source": [
    "import numpy as np, pandas as pd, matplotlib.pyplot as plt\n",
    "from scipy.optimize import root\n",
    "import warnings\n",
    "warnings.filterwarnings('ignore') # A couple math no-no's in this example, but ignore them"
   ]
  },
  {
   "cell_type": "markdown",
   "metadata": {},
   "source": [
    "MATLAB reuslt:\\\n",
    "Zeros of eqns:[7.94328234724282e-9          0          0]\\\n",
    "Value of eqns at zero: [-1.73775253301870e-4 -4.6881338e-11 -4.80000000e-10]\\\n",
    "pH:7.798970004336018"
   ]
  },
  {
   "cell_type": "code",
   "execution_count": 2,
   "metadata": {},
   "outputs": [],
   "source": [
    "def eqns(x0):\n",
    "    yco2_ppm=300 # concentration of co2 in ppm\n",
    "    yco2=yco2_ppm/1e6 # concentration of co2 in mole fractions\n",
    "    P=1 # pressure in atm\n",
    "    co2=yco2*P*10**(-1.47) #co2(aq);\n",
    "    h2co3=10**(-2.59)*co2 #[h2co3]\n",
    "    f = np.zeros(3)\n",
    "    f[0] = (10**(-8.1)+x0[0]+x0[1])*(x0[0]-x0[1])/h2co3-10**(-3.76)           #Rxn 3 equilibrium\n",
    "    f[1] = (10**(-8.1)+x0[0]+x0[1])*(x0[1]+x0[2])/(x0[0]-x0[1])-10**(-10.329) #Rxn 4 equilibrium\n",
    "    f[2] = x0[2]**0.2-4.8*1e-10                                                 #Rxn 5 equilibrium\n",
    "    return f\n",
    "x0=[10**(-8.1),0,0] # initial guesses for extents of reaction for reactions 3 and 4\n"
   ]
  },
  {
   "cell_type": "code",
   "execution_count": 3,
   "metadata": {},
   "outputs": [
    {
     "name": "stdout",
     "output_type": "stream",
     "text": [
      "Method: hybr \n",
      "Zeros of eqns: [7.94328235e-09 0.00000000e+00 0.00000000e+00] \n",
      "Value of eqns at zero: [-1.73775253e-04 -4.68813382e-11 -4.80000000e-10] \n",
      "pH: 7.798970004336018\n"
     ]
    }
   ],
   "source": [
    "result = root(eqns, x0, method = 'hybr') # solves numerically for extents of reaction for reactions 3 and 4\n",
    "z = result.x\n",
    "h_plus = 10**(-8.1)+z[0]+z[1] #[H+] based on extents of reaction\n",
    "pH = -np.log10(h_plus)\n",
    "print(\"Method: hybr\",\"\\nZeros of eqns:\", z, \"\\nValue of eqns at zero:\", eqns(z), \"\\npH:\" ,pH)"
   ]
  },
  {
   "cell_type": "code",
   "execution_count": 4,
   "metadata": {},
   "outputs": [
    {
     "name": "stdout",
     "output_type": "stream",
     "text": [
      "Method: broyden1 \n",
      "Zeros of eqns: [7.94328235e-09 0.00000000e+00 0.00000000e+00] \n",
      "Value of eqns at zero: [-1.73775253e-04 -4.68813382e-11 -4.80000000e-10] \n",
      "pH: 7.798970004336018\n"
     ]
    }
   ],
   "source": [
    "result = root(eqns, x0, method = 'broyden1') # solves numerically for extents of reaction for reactions 3 and 4\n",
    "z = result.x\n",
    "h_plus = 10**(-8.1)+z[0]+z[1] #[H+] based on extents of reaction\n",
    "pH = -np.log10(h_plus)\n",
    "print(\"Method: broyden1\",\"\\nZeros of eqns:\", z, \"\\nValue of eqns at zero:\", eqns(z), \"\\npH:\" ,pH)"
   ]
  },
  {
   "cell_type": "code",
   "execution_count": 5,
   "metadata": {},
   "outputs": [
    {
     "name": "stdout",
     "output_type": "stream",
     "text": [
      "Method: lm \n",
      "Zeros of eqns: [7.94328235e-09 0.00000000e+00 0.00000000e+00] \n",
      "Value of eqns at zero: [-1.73775253e-04 -4.68813382e-11 -4.80000000e-10] \n",
      "pH: 7.798970004336018\n"
     ]
    }
   ],
   "source": [
    "result = root(eqns, x0, method = 'lm') # solves numerically for extents of reaction for reactions 3 and 4\n",
    "z = result.x\n",
    "h_plus = 10**(-8.1)+z[0]+z[1] #[H+] based on extents of reaction\n",
    "pH = -np.log10(h_plus)\n",
    "print(\"Method: lm\",\"\\nZeros of eqns:\", z, \"\\nValue of eqns at zero:\", eqns(z), \"\\npH:\" ,pH)"
   ]
  }
 ],
 "metadata": {
  "kernelspec": {
   "display_name": "base",
   "language": "python",
   "name": "python3"
  },
  "language_info": {
   "codemirror_mode": {
    "name": "ipython",
    "version": 3
   },
   "file_extension": ".py",
   "mimetype": "text/x-python",
   "name": "python",
   "nbconvert_exporter": "python",
   "pygments_lexer": "ipython3",
   "version": "3.11.4"
  },
  "orig_nbformat": 4
 },
 "nbformat": 4,
 "nbformat_minor": 2
}
