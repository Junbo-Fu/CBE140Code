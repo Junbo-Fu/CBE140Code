{
 "cells": [
  {
   "cell_type": "code",
   "execution_count": 5,
   "metadata": {},
   "outputs": [],
   "source": [
    "import numpy as np, pandas as pd, matplotlib.pyplot as plt\n",
    "from scipy.integrate import solve_ivp"
   ]
  },
  {
   "cell_type": "code",
   "execution_count": 6,
   "metadata": {},
   "outputs": [],
   "source": [
    "# Define differential equation\n",
    "def dhdt(t,h):\n",
    "    dhdt = np.zeros((1,1))\n",
    "    \n",
    "    Qin = 4 # ft3/min\n",
    "    A = 3.1416*4**2/4 # ft2\n",
    "    \n",
    "    dhdt[0] = -0.02*25*(2+h**2)/(9*3.1416*h**2)\n",
    "    \n",
    "    return dhdt"
   ]
  },
  {
   "cell_type": "code",
   "execution_count": 7,
   "metadata": {},
   "outputs": [
    {
     "name": "stdout",
     "output_type": "stream",
     "text": [
      "The value of Vf: 11.781\n"
     ]
    },
    {
     "data": {
      "image/png": "[encoded data removed]",
      "text/plain": [
       "<Figure size 640x480 with 1 Axes>"
      ]
     },
     "metadata": {},
     "output_type": "display_data"
    }
   ],
   "source": [
    "# Initial Conditions\n",
    "initialheight = [5] #ft\n",
    "trange = [0, 100] #min\n",
    "\n",
    "# Solve ODE\n",
    "results = solve_ivp(dhdt, trange, initialheight, method='RK45', rtol=1e-04, dense_output=True)\n",
    "\n",
    "# Collect results\n",
    "h, t = results.y, results.t\n",
    "\n",
    "V = (9/75)*3.1416*h**3 # ft3\n",
    "Vf = 0.25*(9/75)*3.1416*5**3\n",
    "print(\"The value of Vf:\",Vf)\n",
    "\n",
    "# Plot results\n",
    "plt.figure()\n",
    "plt.plot(t, *h) # Don't worry about the *; they're just to \"unpack\" the arrays\n",
    "plt.xlim([0, 100])\n",
    "plt.xlabel('t, min')\n",
    "plt.ylim([0, 8])\n",
    "plt.ylabel('h, ft')\n",
    "plt.text(1, 5.5, 'conical tank drainage')\n",
    "plt.show()"
   ]
  },
  {
   "cell_type": "code",
   "execution_count": 8,
   "metadata": {},
   "outputs": [
    {
     "name": "stdout",
     "output_type": "stream",
     "text": [
      "Table 1\n"
     ]
    },
    {
     "data": {
      "text/html": [
       "<div>\n",
       "<style scoped>\n",
       "    .dataframe tbody tr th:only-of-type {\n",
       "        vertical-align: middle;\n",
       "    }\n",
       "\n",
       "    .dataframe tbody tr th {\n",
       "        vertical-align: top;\n",
       "    }\n",
       "\n",
       "    .dataframe thead th {\n",
       "        text-align: right;\n",
       "    }\n",
       "</style>\n",
       "<table border=\"1\" class=\"dataframe\">\n",
       "  <thead>\n",
       "    <tr style=\"text-align: right;\">\n",
       "      <th></th>\n",
       "      <th>h</th>\n",
       "      <th>t</th>\n",
       "    </tr>\n",
       "  </thead>\n",
       "  <tbody>\n",
       "    <tr>\n",
       "      <th>0</th>\n",
       "      <td>5.000000</td>\n",
       "      <td>0.000000</td>\n",
       "    </tr>\n",
       "    <tr>\n",
       "      <th>1</th>\n",
       "      <td>4.996329</td>\n",
       "      <td>0.192206</td>\n",
       "    </tr>\n",
       "    <tr>\n",
       "      <th>2</th>\n",
       "      <td>4.959596</td>\n",
       "      <td>2.114269</td>\n",
       "    </tr>\n",
       "    <tr>\n",
       "      <th>3</th>\n",
       "      <td>4.589844</td>\n",
       "      <td>21.334892</td>\n",
       "    </tr>\n",
       "    <tr>\n",
       "      <th>4</th>\n",
       "      <td>2.998116</td>\n",
       "      <td>100.000000</td>\n",
       "    </tr>\n",
       "  </tbody>\n",
       "</table>\n",
       "</div>"
      ],
      "text/plain": [
       "          h           t\n",
       "0  5.000000    0.000000\n",
       "1  4.996329    0.192206\n",
       "2  4.959596    2.114269\n",
       "3  4.589844   21.334892\n",
       "4  2.998116  100.000000"
      ]
     },
     "metadata": {},
     "output_type": "display_data"
    },
    {
     "name": "stdout",
     "output_type": "stream",
     "text": [
      "Table 2\n"
     ]
    },
    {
     "data": {
      "text/html": [
       "<div>\n",
       "<style scoped>\n",
       "    .dataframe tbody tr th:only-of-type {\n",
       "        vertical-align: middle;\n",
       "    }\n",
       "\n",
       "    .dataframe tbody tr th {\n",
       "        vertical-align: top;\n",
       "    }\n",
       "\n",
       "    .dataframe thead th {\n",
       "        text-align: right;\n",
       "    }\n",
       "</style>\n",
       "<table border=\"1\" class=\"dataframe\">\n",
       "  <thead>\n",
       "    <tr style=\"text-align: right;\">\n",
       "      <th></th>\n",
       "      <th>V</th>\n",
       "      <th>t</th>\n",
       "    </tr>\n",
       "  </thead>\n",
       "  <tbody>\n",
       "    <tr>\n",
       "      <th>0</th>\n",
       "      <td>47.124000</td>\n",
       "      <td>0.000000</td>\n",
       "    </tr>\n",
       "    <tr>\n",
       "      <th>1</th>\n",
       "      <td>47.020279</td>\n",
       "      <td>0.192206</td>\n",
       "    </tr>\n",
       "    <tr>\n",
       "      <th>2</th>\n",
       "      <td>45.990813</td>\n",
       "      <td>2.114269</td>\n",
       "    </tr>\n",
       "    <tr>\n",
       "      <th>3</th>\n",
       "      <td>36.452377</td>\n",
       "      <td>21.334892</td>\n",
       "    </tr>\n",
       "    <tr>\n",
       "      <th>4</th>\n",
       "      <td>10.159622</td>\n",
       "      <td>100.000000</td>\n",
       "    </tr>\n",
       "  </tbody>\n",
       "</table>\n",
       "</div>"
      ],
      "text/plain": [
       "           V           t\n",
       "0  47.124000    0.000000\n",
       "1  47.020279    0.192206\n",
       "2  45.990813    2.114269\n",
       "3  36.452377   21.334892\n",
       "4  10.159622  100.000000"
      ]
     },
     "metadata": {},
     "output_type": "display_data"
    }
   ],
   "source": [
    "# Default Python table \n",
    "print(\"Table 1\")\n",
    "display(pd.DataFrame([*h, t], index=['h', 't']).T)\n",
    "print(\"Table 2\")\n",
    "display(pd.DataFrame([*V, t], index=['V', 't']).T)"
   ]
  }
 ],
 "metadata": {
  "kernelspec": {
   "display_name": "base",
   "language": "python",
   "name": "python3"
  },
  "language_info": {
   "codemirror_mode": {
    "name": "ipython",
    "version": 3
   },
   "file_extension": ".py",
   "mimetype": "text/x-python",
   "name": "python",
   "nbconvert_exporter": "python",
   "pygments_lexer": "ipython3",
   "version": "3.11.4"
  },
  "orig_nbformat": 4
 },
 "nbformat": 4,
 "nbformat_minor": 2
}
