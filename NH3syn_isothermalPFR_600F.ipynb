{
 "cells": [
  {
   "cell_type": "code",
   "execution_count": 2,
   "metadata": {},
   "outputs": [],
   "source": [
    "import numpy as np, pandas as pd, matplotlib.pyplot as plt\n",
    "from scipy.integrate import solve_ivp\n",
    "import warnings\n",
    "warnings.filterwarnings('ignore') # A couple math no-no's in this example, but ignore them"
   ]
  },
  {
   "cell_type": "code",
   "execution_count": 3,
   "metadata": {},
   "outputs": [],
   "source": [
    "# Define differential equation\n",
    "def dxdV(V, x):\n",
    "  dxdV = np.zeros((1,1))\n",
    "  k1 =  0.125 # lbmol/ft^3/h\n",
    "  beta = 0.00140\n",
    "  K = 0.0485\n",
    "  P = 300 # atm\n",
    "  N2o = 1 # inlet N2 flow lbmol/hr\n",
    "\n",
    "  yN = (1 - x) / (4 - 2 * x)\n",
    "  yH = 3 * yN\n",
    "  yNH3 = 2 * x / (4 - 2 * x)\n",
    "\n",
    "  dxdV[0] = ( N2o**-1 * k1*( yN * yH**3 - yNH3**2 / (K**2 * P**2))\n",
    "           / ( (yNH3 * yH**0.5 + beta * yH**2)**1.5 ) )\n",
    "\n",
    "  return dxdV"
   ]
  },
  {
   "cell_type": "code",
   "execution_count": 4,
   "metadata": {},
   "outputs": [
    {
     "data": {
      "image/png": "[encoded data removed]",
      "text/plain": [
       "<Figure size 640x480 with 1 Axes>"
      ]
     },
     "metadata": {},
     "output_type": "display_data"
    }
   ],
   "source": [
    "# Initialize\n",
    "initialconversion = [0]\n",
    "Vrange = [0, 4000] # ft^3\n",
    "\n",
    "# Solve ODE trol and atol adjustment if for matching the MATLAB output\n",
    "results = solve_ivp(dxdV,  Vrange, initialconversion, method = 'RK45', rtol = 1e-9, atol = 1e-10)\n",
    "\n",
    "# Collect results\n",
    "V, x = results.t, results.y\n",
    "Vactual = V * 268 / (x + 1E-08)\n",
    "logVactual = np.log10(Vactual)\n",
    "\n",
    "# Plot results\n",
    "plt.plot(*x, *logVactual) # Don't worry about the *'s; they are just to \"unpack\" the arrays\n",
    "plt.xlim(0, 0.8)\n",
    "plt.xlabel('x conversion')\n",
    "plt.ylim(-3, 6)\n",
    "plt.ylabel(r'$\\mathrm{log_{10}(Vactual), ft^3}$') # Formatted using LATEX\n",
    "plt.text(0.1, 5, '600F; 300 atm')\n",
    "plt.show()"
   ]
  },
  {
   "cell_type": "code",
   "execution_count": 5,
   "metadata": {},
   "outputs": [
    {
     "data": {
      "text/html": [
       "<div>\n",
       "<style scoped>\n",
       "    .dataframe tbody tr th:only-of-type {\n",
       "        vertical-align: middle;\n",
       "    }\n",
       "\n",
       "    .dataframe tbody tr th {\n",
       "        vertical-align: top;\n",
       "    }\n",
       "\n",
       "    .dataframe thead th {\n",
       "        text-align: right;\n",
       "    }\n",
       "</style>\n",
       "<table border=\"1\" class=\"dataframe\">\n",
       "  <thead>\n",
       "    <tr style=\"text-align: right;\">\n",
       "      <th></th>\n",
       "      <th>x</th>\n",
       "      <th>Vactual/10000</th>\n",
       "    </tr>\n",
       "  </thead>\n",
       "  <tbody>\n",
       "    <tr>\n",
       "      <th>0</th>\n",
       "      <td>0.000000</td>\n",
       "      <td>0.000000</td>\n",
       "    </tr>\n",
       "    <tr>\n",
       "      <th>1</th>\n",
       "      <td>0.000245</td>\n",
       "      <td>0.000050</td>\n",
       "    </tr>\n",
       "    <tr>\n",
       "      <th>2</th>\n",
       "      <td>0.000448</td>\n",
       "      <td>0.000054</td>\n",
       "    </tr>\n",
       "    <tr>\n",
       "      <th>3</th>\n",
       "      <td>0.000686</td>\n",
       "      <td>0.000058</td>\n",
       "    </tr>\n",
       "    <tr>\n",
       "      <th>4</th>\n",
       "      <td>0.000939</td>\n",
       "      <td>0.000064</td>\n",
       "    </tr>\n",
       "    <tr>\n",
       "      <th>...</th>\n",
       "      <td>...</td>\n",
       "      <td>...</td>\n",
       "    </tr>\n",
       "    <tr>\n",
       "      <th>193</th>\n",
       "      <td>0.775838</td>\n",
       "      <td>121.959834</td>\n",
       "    </tr>\n",
       "    <tr>\n",
       "      <th>194</th>\n",
       "      <td>0.775838</td>\n",
       "      <td>126.439025</td>\n",
       "    </tr>\n",
       "    <tr>\n",
       "      <th>195</th>\n",
       "      <td>0.775838</td>\n",
       "      <td>130.918216</td>\n",
       "    </tr>\n",
       "    <tr>\n",
       "      <th>196</th>\n",
       "      <td>0.775838</td>\n",
       "      <td>136.040810</td>\n",
       "    </tr>\n",
       "    <tr>\n",
       "      <th>197</th>\n",
       "      <td>0.775838</td>\n",
       "      <td>138.173220</td>\n",
       "    </tr>\n",
       "  </tbody>\n",
       "</table>\n",
       "<p>198 rows × 2 columns</p>\n",
       "</div>"
      ],
      "text/plain": [
       "            x  Vactual/10000\n",
       "0    0.000000       0.000000\n",
       "1    0.000245       0.000050\n",
       "2    0.000448       0.000054\n",
       "3    0.000686       0.000058\n",
       "4    0.000939       0.000064\n",
       "..        ...            ...\n",
       "193  0.775838     121.959834\n",
       "194  0.775838     126.439025\n",
       "195  0.775838     130.918216\n",
       "196  0.775838     136.040810\n",
       "197  0.775838     138.173220\n",
       "\n",
       "[198 rows x 2 columns]"
      ]
     },
     "metadata": {},
     "output_type": "display_data"
    }
   ],
   "source": [
    "display(pd.DataFrame([*x, *Vactual*1E-04], index=['x', 'Vactual/10000']).T)"
   ]
  }
 ],
 "metadata": {
  "kernelspec": {
   "display_name": "base",
   "language": "python",
   "name": "python3"
  },
  "language_info": {
   "codemirror_mode": {
    "name": "ipython",
    "version": 3
   },
   "file_extension": ".py",
   "mimetype": "text/x-python",
   "name": "python",
   "nbconvert_exporter": "python",
   "pygments_lexer": "ipython3",
   "version": "3.11.4"
  },
  "orig_nbformat": 4
 },
 "nbformat": 4,
 "nbformat_minor": 2
}
