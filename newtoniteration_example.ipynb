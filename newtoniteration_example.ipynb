{
 "cells": [
  {
   "cell_type": "code",
   "execution_count": 1,
   "metadata": {},
   "outputs": [],
   "source": [
    "import numpy as np, pandas as pd, matplotlib.pyplot as plt"
   ]
  },
  {
   "cell_type": "code",
   "execution_count": 5,
   "metadata": {},
   "outputs": [
    {
     "name": "stdout",
     "output_type": "stream",
     "text": [
      "[[1.5, -1.0], -1.0]\n"
     ]
    }
   ],
   "source": [
    "def newtoniteration_example(f,g):\n",
    "    # Constants and initialization\n",
    "\n",
    "    x = 1.5   # Set starting value\n",
    "    nmax = 25  # Set aximum number of iterations\n",
    "    eps = 1  # Initialize error bound, eps\n",
    "    xvals = x  # Initialize array of iterates\n",
    "    n = 0  # Initialize iteration counter\n",
    "    error = 1e-5  # Define tolerance\n",
    "\n",
    "    #  Newton iteration\n",
    "\n",
    "    while eps >= error and n<=nmax: # While error is larger than the tolerance and n <= the maximum number of iterations\n",
    "        \n",
    "        y = x - f(x) / g(x);  #  Newton iteration\n",
    "        \n",
    "        xvals = [xvals,y];  # Write next iterate in array\n",
    "        eps = abs(y-x);  # Compute error\n",
    "        x = y; n = n + 1;  # Update x and n\n",
    "    return xvals\n",
    "\n"
   ]
  }
 ],
 "metadata": {
  "kernelspec": {
   "display_name": "base",
   "language": "python",
   "name": "python3"
  },
  "language_info": {
   "codemirror_mode": {
    "name": "ipython",
    "version": 3
   },
   "file_extension": ".py",
   "mimetype": "text/x-python",
   "name": "python",
   "nbconvert_exporter": "python",
   "pygments_lexer": "ipython3",
   "version": "3.11.4"
  },
  "orig_nbformat": 4
 },
 "nbformat": 4,
 "nbformat_minor": 2
}
