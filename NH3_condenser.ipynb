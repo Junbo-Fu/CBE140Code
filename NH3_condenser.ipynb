{
 "cells": [
  {
   "cell_type": "code",
   "execution_count": 59,
   "metadata": {},
   "outputs": [],
   "source": [
    "import numpy as np, pandas as pd, matplotlib.pyplot as plt\n",
    "from scipy.optimize import root_scalar"
   ]
  },
  {
   "cell_type": "code",
   "execution_count": 60,
   "metadata": {},
   "outputs": [],
   "source": [
    "# 1=N2,2=H2,3=NH3,4=A\n",
    "# set constants\n",
    "z=np.array([0.2099,0.6298,0.1050,0.0553])\n",
    "K=np.array([66.7,50,0.0235,100])\n",
    "\n",
    "\n",
    "# Define function\n",
    "def eqns(VoF):\n",
    "    S=0\n",
    "\n",
    "    for i in range(4):\n",
    "        S = S + z[i]*(K[i]-1)/(1 + VoF*(K[i]-1))\n",
    "        \n",
    "    f = S\n",
    "    return f"
   ]
  },
  {
   "cell_type": "code",
   "execution_count": 61,
   "metadata": {},
   "outputs": [
    {
     "name": "stdout",
     "output_type": "stream",
     "text": [
      "The root of function is:  0.9145914803976979\n",
      "The vale of function at the 'zero:' 3.917491331328904e-12\n"
     ]
    }
   ],
   "source": [
    "# Set initial guesses\n",
    "VoFo1 = 0.5\n",
    "VoFo2 = 1\n",
    "# Call fsolve, using secant method require two guesses different from MATLAB\n",
    "result = root_scalar(eqns, x0 = VoFo1, x1 = VoFo2, method = 'secant') \n",
    "VoF = result.root\n",
    "\n",
    "# Display the zero\n",
    "print(\"The root of function is: \" ,VoF) \n",
    "# Display value of the function at the \"zero\"\n",
    "print(\"The vale of function at the 'zero:'\", eqns(VoF))"
   ]
  },
  {
   "cell_type": "markdown",
   "metadata": {},
   "source": [
    "Notice that the root found in python is slight different from the root found in MATLAB. \\\n",
    "Python root: 0.9145914803976979\\\n",
    "MATLAB root: 0.914591480398154\\\n",
    "The last few digit different reuslts in the value of function at the \"zero\" mismatch.\\\n",
    "Python function value at the \"zero\":  3.917491331328904e-12\\\n",
    "MATLAB function value at the \"zero\": -5.443284711859064e-13"
   ]
  },
  {
   "cell_type": "code",
   "execution_count": 62,
   "metadata": {},
   "outputs": [
    {
     "name": "stdout",
     "output_type": "stream",
     "text": [
      "x =  [3.43598958e-03 1.37465948e-02 9.82213338e-01 6.04077425e-04] \n",
      "y =  [0.2291805  0.68732974 0.02308201 0.06040774] \n",
      "F =  11.70843382670042 \n",
      "V =  10.70843382670042\n"
     ]
    }
   ],
   "source": [
    "x = z/(1 + VoF*(K-1))\n",
    "y = z*K/(1 + VoF*(K-1))\n",
    "# L = 1 1bmol as basis\n",
    "F = 1 / ( 1 - VoF )\n",
    "V = VoF * F\n",
    "print(\"x = \",x,\"\\ny = \",y,\"\\nF = \",F,\"\\nV = \",V)"
   ]
  }
 ],
 "metadata": {
  "kernelspec": {
   "display_name": "base",
   "language": "python",
   "name": "python3"
  },
  "language_info": {
   "codemirror_mode": {
    "name": "ipython",
    "version": 3
   },
   "file_extension": ".py",
   "mimetype": "text/x-python",
   "name": "python",
   "nbconvert_exporter": "python",
   "pygments_lexer": "ipython3",
   "version": "3.11.4"
  },
  "orig_nbformat": 4
 },
 "nbformat": 4,
 "nbformat_minor": 2
}
