{
 "cells": [
  {
   "cell_type": "code",
   "execution_count": 1,
   "metadata": {},
   "outputs": [],
   "source": [
    "import numpy as np, pandas as pd, matplotlib.pyplot as plt\n",
    "from numpy.linalg import lstsq"
   ]
  },
  {
   "cell_type": "code",
   "execution_count": 11,
   "metadata": {},
   "outputs": [
    {
     "name": "stdout",
     "output_type": "stream",
     "text": [
      "least square result: [[0.00049495]\n",
      " [0.08138384]\n",
      " [0.0930101 ]\n",
      " [0.07211111]]\n"
     ]
    },
    {
     "name": "stderr",
     "output_type": "stream",
     "text": [
      "/var/folders/sr/cbrcytn94nzg58tqc557_ctm0000gn/T/ipykernel_32604/3805308568.py:9: FutureWarning: `rcond` parameter will change to the default of machine precision times ``max(M, N)`` where M and N are the input matrix dimensions.\n",
      "To use the future default and silence this warning we advise to pass `rcond=None`, to keep using the old, explicitly pass `rcond=-1`.\n",
      "  x = lstsq(A,b)\n"
     ]
    }
   ],
   "source": [
    "# construct matrix\n",
    "A = np.array([[577.5, 82.5, 0,    0],\n",
    "              [660,   0,    82.5, 0],\n",
    "              [0,     165,  82.5, 165], \n",
    "              [1,     1,    1,    1]])\n",
    "b = np.array([[7],\n",
    "             [8], \n",
    "             [33], \n",
    "             [0.247]])\n",
    "#least square\n",
    "x = lstsq(A,b)\n",
    "print(\"least square result:\", x[0])"
   ]
  }
 ],
 "metadata": {
  "kernelspec": {
   "display_name": "base",
   "language": "python",
   "name": "python3"
  },
  "language_info": {
   "codemirror_mode": {
    "name": "ipython",
    "version": 3
   },
   "file_extension": ".py",
   "mimetype": "text/x-python",
   "name": "python",
   "nbconvert_exporter": "python",
   "pygments_lexer": "ipython3",
   "version": "3.11.4"
  },
  "orig_nbformat": 4
 },
 "nbformat": 4,
 "nbformat_minor": 2
}
